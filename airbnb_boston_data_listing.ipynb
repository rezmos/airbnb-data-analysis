{
 "cells": [
  {
   "cell_type": "markdown",
   "source": [
    "# Airbnb pricing data analysis for Boston hosts\n",
    "To understand better the Airbnb Boston Dataset, I chose follow CRISP for data, the first step is to understand business.\n",
    "\n",
    "## Business Understanding\n",
    "Looking through the web, I found that Airbnb is one of the most popular hosting applications; also, I found some questions done by hosts and guests related to pricing according to the properties/spaces rental.\n",
    "\n",
    "## Business Questions\n",
    "\n",
    "<blockquote>\n",
    "As hosts, Making more money is one of the main reasons to start hosting. If the hosts have unused space on their property, could they select the bests property/space to rent according to the best type chosen by guests? also, Do hosts know how to set the base price according to the location? And do the reviews make an impact on the base price?\n",
    "</blockquote>\n",
    "\n",
    "### First Question:\n",
    "<blockquote>Could hosts select the bests property/space to rent according to the best type chosen by guests?</blockquote>\n",
    "\n",
    "### Second question:\n",
    "<blockquote>Do hosts know how to set the base price according to the location?</blockquote>\n",
    "\n",
    "### Third question:\n",
    "<blockquote>Do the reviews make an impact on the base price?</blockquote>\n",
    "\n",
    "## Data Understanding\n",
    "Once the business questions was understood, I continued with the second step: Understand data to answer the questions (Take a look of the steps):\n",
    "1. Import necessary libraries to analyze (pandas) and visualize (matplotlib.pyplot) data, also (sns).\n",
    "2. Read the data, understanding the value per column."
   ],
   "metadata": {
    "collapsed": false,
    "pycharm": {
     "name": "#%% md\n"
    }
   }
  },
  {
   "cell_type": "code",
   "execution_count": 1,
   "outputs": [
    {
     "data": {
      "text/plain": "         id                                               name   host_id  \\\n0   9569407                 Clean & Cozy Newton/Boston College  44920239   \n1  31650137                Cozy Queen Bedroom close to  Boston  13005723   \n2   6599485                Cambridge  Harvard Comfortable Room   6438360   \n3  26703374                   Harvard Square less than 2 miles  71156317   \n4  13883630  Nice, Clean, Warm, Smoke Free 1 in East Somerv...  80080682   \n\n        host_name  neighbourhood_group neighbourhood  latitude  longitude  \\\n0          Marcia                  NaN      Brighton  42.33588  -71.18811   \n1        Anderson                  NaN   Charlestown  42.40645  -71.05180   \n2            John                  NaN       Allston  42.38461  -71.13500   \n3            Eddy                  NaN      Brighton  42.37511  -71.15229   \n4  Maria And Jose                  NaN   Charlestown  42.38751  -71.09151   \n\n      room_type  price  minimum_nights  number_of_reviews last_review  \\\n0  Private room     60              91                 13  2019-09-02   \n1  Private room    104               2                144  2022-06-02   \n2  Private room     63              30                210  2022-03-19   \n3  Private room     87               3                 21  2022-06-09   \n4  Private room     90               2                128  2022-05-26   \n\n   reviews_per_month  calculated_host_listings_count  availability_365  \\\n0               0.17                               2               255   \n1               3.60                               3                85   \n2               2.50                               2               154   \n3               0.45                               1                61   \n4               1.78                               2               226   \n\n   number_of_reviews_ltm    license  \n0                      0        NaN  \n1                     57        NaN  \n2                      3        NaN  \n3                     16  STR-16228  \n4                     12        NaN  ",
      "text/html": "<div>\n<style scoped>\n    .dataframe tbody tr th:only-of-type {\n        vertical-align: middle;\n    }\n\n    .dataframe tbody tr th {\n        vertical-align: top;\n    }\n\n    .dataframe thead th {\n        text-align: right;\n    }\n</style>\n<table border=\"1\" class=\"dataframe\">\n  <thead>\n    <tr style=\"text-align: right;\">\n      <th></th>\n      <th>id</th>\n      <th>name</th>\n      <th>host_id</th>\n      <th>host_name</th>\n      <th>neighbourhood_group</th>\n      <th>neighbourhood</th>\n      <th>latitude</th>\n      <th>longitude</th>\n      <th>room_type</th>\n      <th>price</th>\n      <th>minimum_nights</th>\n      <th>number_of_reviews</th>\n      <th>last_review</th>\n      <th>reviews_per_month</th>\n      <th>calculated_host_listings_count</th>\n      <th>availability_365</th>\n      <th>number_of_reviews_ltm</th>\n      <th>license</th>\n    </tr>\n  </thead>\n  <tbody>\n    <tr>\n      <th>0</th>\n      <td>9569407</td>\n      <td>Clean &amp; Cozy Newton/Boston College</td>\n      <td>44920239</td>\n      <td>Marcia</td>\n      <td>NaN</td>\n      <td>Brighton</td>\n      <td>42.33588</td>\n      <td>-71.18811</td>\n      <td>Private room</td>\n      <td>60</td>\n      <td>91</td>\n      <td>13</td>\n      <td>2019-09-02</td>\n      <td>0.17</td>\n      <td>2</td>\n      <td>255</td>\n      <td>0</td>\n      <td>NaN</td>\n    </tr>\n    <tr>\n      <th>1</th>\n      <td>31650137</td>\n      <td>Cozy Queen Bedroom close to  Boston</td>\n      <td>13005723</td>\n      <td>Anderson</td>\n      <td>NaN</td>\n      <td>Charlestown</td>\n      <td>42.40645</td>\n      <td>-71.05180</td>\n      <td>Private room</td>\n      <td>104</td>\n      <td>2</td>\n      <td>144</td>\n      <td>2022-06-02</td>\n      <td>3.60</td>\n      <td>3</td>\n      <td>85</td>\n      <td>57</td>\n      <td>NaN</td>\n    </tr>\n    <tr>\n      <th>2</th>\n      <td>6599485</td>\n      <td>Cambridge  Harvard Comfortable Room</td>\n      <td>6438360</td>\n      <td>John</td>\n      <td>NaN</td>\n      <td>Allston</td>\n      <td>42.38461</td>\n      <td>-71.13500</td>\n      <td>Private room</td>\n      <td>63</td>\n      <td>30</td>\n      <td>210</td>\n      <td>2022-03-19</td>\n      <td>2.50</td>\n      <td>2</td>\n      <td>154</td>\n      <td>3</td>\n      <td>NaN</td>\n    </tr>\n    <tr>\n      <th>3</th>\n      <td>26703374</td>\n      <td>Harvard Square less than 2 miles</td>\n      <td>71156317</td>\n      <td>Eddy</td>\n      <td>NaN</td>\n      <td>Brighton</td>\n      <td>42.37511</td>\n      <td>-71.15229</td>\n      <td>Private room</td>\n      <td>87</td>\n      <td>3</td>\n      <td>21</td>\n      <td>2022-06-09</td>\n      <td>0.45</td>\n      <td>1</td>\n      <td>61</td>\n      <td>16</td>\n      <td>STR-16228</td>\n    </tr>\n    <tr>\n      <th>4</th>\n      <td>13883630</td>\n      <td>Nice, Clean, Warm, Smoke Free 1 in East Somerv...</td>\n      <td>80080682</td>\n      <td>Maria And Jose</td>\n      <td>NaN</td>\n      <td>Charlestown</td>\n      <td>42.38751</td>\n      <td>-71.09151</td>\n      <td>Private room</td>\n      <td>90</td>\n      <td>2</td>\n      <td>128</td>\n      <td>2022-05-26</td>\n      <td>1.78</td>\n      <td>2</td>\n      <td>226</td>\n      <td>12</td>\n      <td>NaN</td>\n    </tr>\n  </tbody>\n</table>\n</div>"
     },
     "execution_count": 1,
     "metadata": {},
     "output_type": "execute_result"
    }
   ],
   "source": [
    "import numpy as np\n",
    "import pandas as pd\n",
    "import matplotlib.pyplot as plt\n",
    "import seaborn as sns\n",
    "# let's take a look of Airbnb boston dataset (listings)\n",
    "df_listings = pd.read_csv('listings.csv')\n",
    "df_listings.head()"
   ],
   "metadata": {
    "collapsed": false,
    "pycharm": {
     "name": "#%%\n"
    }
   }
  },
  {
   "cell_type": "markdown",
   "source": [
    "Knowing the number of rows and columns of the data frame is important to calculate some statistics like mean"
   ],
   "metadata": {
    "collapsed": false,
    "pycharm": {
     "name": "#%% md\n"
    }
   }
  },
  {
   "cell_type": "code",
   "execution_count": 2,
   "outputs": [
    {
     "name": "stdout",
     "output_type": "stream",
     "text": [
      "Number of columns :18 and rows:4903 \n"
     ]
    }
   ],
   "source": [
    "num_rows = df_listings.shape[0]\n",
    "num_col = df_listings.shape[1]\n",
    "print (\"Number of columns :{} and rows:{} \".format(num_col, num_rows))"
   ],
   "metadata": {
    "collapsed": false,
    "pycharm": {
     "name": "#%%\n"
    }
   }
  },
  {
   "cell_type": "markdown",
   "source": [
    "## First Question:\n",
    "<blockquote>Could hosts select the bests property/space to rent according to the best type chosen by guests?</blockquote>\n",
    "\n",
    "### analysis\n",
    "Looking into the Series or category of room type values in the dataset, I could find the answer for the first question getting pandas series of room type."
   ],
   "metadata": {
    "collapsed": false,
    "pycharm": {
     "name": "#%% md\n"
    }
   }
  },
  {
   "cell_type": "code",
   "execution_count": 3,
   "outputs": [
    {
     "name": "stdout",
     "output_type": "stream",
     "text": [
      "Entire home/apt    3230\n",
      "Private room       1622\n",
      "Shared room          27\n",
      "Hotel room           24\n",
      "Name: room_type, dtype: int64\n"
     ]
    }
   ],
   "source": [
    "# Pandas series of different room types in the dataset.\n",
    "room_type_series = df_listings.room_type.value_counts()\n",
    "print (room_type_series)"
   ],
   "metadata": {
    "collapsed": false,
    "pycharm": {
     "name": "#%%\n"
    }
   }
  },
  {
   "cell_type": "markdown",
   "source": [
    "\n",
    "### Visualization\n",
    "The following bar chart shows the proportion of individuals in each room type category."
   ],
   "metadata": {
    "collapsed": false,
    "pycharm": {
     "name": "#%% md\n"
    }
   }
  },
  {
   "cell_type": "code",
   "execution_count": 4,
   "outputs": [
    {
     "data": {
      "text/plain": "<Figure size 432x288 with 1 Axes>",
      "image/png": "[encoded data removed]"
     },
     "metadata": {},
     "output_type": "display_data"
    }
   ],
   "source": [
    "# The below should be a bar chart of the proportion of individuals in each room type category if your room_type_serie is set up correctly\n",
    "(room_type_series/df_listings.shape[0]).plot(kind=\"bar\");\n",
    "plt.title(\"Most rented room type\");"
   ],
   "metadata": {
    "collapsed": false,
    "pycharm": {
     "name": "#%%\n"
    }
   }
  },
  {
   "cell_type": "markdown",
   "source": [
    "### Evaluate the results\n",
    "Fourth and last step, Evaluate results: Boston hosts can find some exciting responses to the first question. More than 60% of guests prefer to rent the entire house or apartment, and more than 30% private rooms. Shared rooms and hotel rooms are not desired to be rented by guests.\n",
    "\n",
    "The precise property/space types leaders are Entire home/apt and Private Room.\n",
    "\n",
    "## Second question:\n",
    "\n",
    "<blockquote>Do hosts know how to set the base price according to the location?</blockquote>\n",
    "\n",
    "### analysis\n",
    " It's necessary to know how to get the location. In Airbnb Boston dataset, in the listing.cvs file, there is a column name: Neighborhood. This column will help me to get the series of neighborhood.\n",
    " I decided to obtain the top 5 of neighborhoods with more quantity of properties/spaces rental.\n"
   ],
   "metadata": {
    "collapsed": false,
    "pycharm": {
     "name": "#%% md\n"
    }
   }
  },
  {
   "cell_type": "code",
   "execution_count": 5,
   "outputs": [
    {
     "data": {
      "text/plain": "<Figure size 432x288 with 1 Axes>",
      "image/png": "[encoded data removed]"
     },
     "metadata": {},
     "output_type": "display_data"
    }
   ],
   "source": [
    "neighbourhood_serie = df_listings.neighbourhood.value_counts()\n",
    "\n",
    "# The below should be a bar chart of the proportion of the top 5 neighbourhood for the individuals in your neighbourhood_serie if it is set up correctly.\n",
    "(neighbourhood_serie[:5] / df_listings.shape[0]).plot(kind=\"bar\");\n",
    "plt.title(\"Top 5 neighbourhood with more quantity of properties/spaces rental\");"
   ],
   "metadata": {
    "collapsed": false,
    "pycharm": {
     "name": "#%%\n"
    }
   }
  },
  {
   "cell_type": "markdown",
   "source": [
    "### Visualization\n",
    "Once I obtained the location, to get the base price I decided to calculate the mean related to  Entire home/apt and private room category per neighborhood."
   ],
   "metadata": {
    "collapsed": false,
    "pycharm": {
     "name": "#%% md\n"
    }
   }
  },
  {
   "cell_type": "markdown",
   "source": [],
   "metadata": {
    "collapsed": false,
    "pycharm": {
     "name": "#%% md\n"
    }
   }
  },
  {
   "cell_type": "code",
   "execution_count": 6,
   "outputs": [
    {
     "name": "stdout",
     "output_type": "stream",
     "text": [
      "                                    price\n",
      "neighbourhood room_type                  \n",
      "Allston       Entire home/apt  279.376884\n",
      "              Private room     156.949206\n",
      "Brighton      Entire home/apt  299.778226\n",
      "              Private room      96.945455\n",
      "Charlestown   Entire home/apt  271.333333\n",
      "              Private room     102.848276\n",
      "Dorchester    Entire home/apt  257.845494\n",
      "              Private room     123.611650\n",
      "East Boston   Entire home/apt  235.944186\n",
      "              Private room      92.504854\n"
     ]
    }
   ],
   "source": [
    "# According to the neighbourhood and room type, which group has the highest average price? (where room_type will be the most rented (Entire home/apt or Privete Room) and the neighbourhood is in the top 5 (Allston, Dorchester, Brighton, Charlestown or  East Boston)\n",
    "df_nhood_rt_price=pd.DataFrame(df_listings.query(\"(room_type == 'Entire home/apt' or room_type == 'Private room') and (neighbourhood == 'Allston' or neighbourhood == 'Dorchester' or neighbourhood == 'Brighton' or neighbourhood == 'Charlestown' or neighbourhood == 'East Boston') \").groupby(['neighbourhood', 'room_type']).mean()['price'])\n",
    "print(df_nhood_rt_price)"
   ],
   "metadata": {
    "collapsed": false,
    "pycharm": {
     "name": "#%%\n"
    }
   }
  },
  {
   "cell_type": "markdown",
   "source": [
    "### Evaluate the results\n",
    "The first finding is interesting, the Entire home/apt has a range price value between 235.9 and 299.7, while the Private room has a range price value between 96.94 and 156.9."
   ],
   "metadata": {
    "collapsed": false,
    "pycharm": {
     "name": "#%% md\n"
    }
   }
  }
 ],
 "metadata": {
  "kernelspec": {
   "display_name": "Python 3",
   "language": "python",
   "name": "python3"
  },
  "language_info": {
   "codemirror_mode": {
    "name": "ipython",
    "version": 2
   },
   "file_extension": ".py",
   "mimetype": "text/x-python",
   "name": "python",
   "nbconvert_exporter": "python",
   "pygments_lexer": "ipython2",
   "version": "2.7.6"
  }
 },
 "nbformat": 4,
 "nbformat_minor": 0
}