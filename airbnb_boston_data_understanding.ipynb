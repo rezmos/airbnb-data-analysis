{
 "cells": [
  {
   "cell_type": "code",
   "execution_count": 1,
   "outputs": [
    {
     "data": {
      "text/plain": "         id                                               name   host_id  \\\n0   9569407                 Clean & Cozy Newton/Boston College  44920239   \n1  31650137                Cozy Queen Bedroom close to  Boston  13005723   \n2   6599485                Cambridge  Harvard Comfortable Room   6438360   \n3  26703374                   Harvard Square less than 2 miles  71156317   \n4  13883630  Nice, Clean, Warm, Smoke Free 1 in East Somerv...  80080682   \n\n        host_name  neighbourhood_group neighbourhood  latitude  longitude  \\\n0          Marcia                  NaN      Brighton  42.33588  -71.18811   \n1        Anderson                  NaN   Charlestown  42.40645  -71.05180   \n2            John                  NaN       Allston  42.38461  -71.13500   \n3            Eddy                  NaN      Brighton  42.37511  -71.15229   \n4  Maria And Jose                  NaN   Charlestown  42.38751  -71.09151   \n\n      room_type  price  minimum_nights  number_of_reviews last_review  \\\n0  Private room     60              91                 13  2019-09-02   \n1  Private room    104               2                144  2022-06-02   \n2  Private room     63              30                210  2022-03-19   \n3  Private room     87               3                 21  2022-06-09   \n4  Private room     90               2                128  2022-05-26   \n\n   reviews_per_month  calculated_host_listings_count  availability_365  \\\n0               0.17                               2               255   \n1               3.60                               3                85   \n2               2.50                               2               154   \n3               0.45                               1                61   \n4               1.78                               2               226   \n\n   number_of_reviews_ltm    license  \n0                      0        NaN  \n1                     57        NaN  \n2                      3        NaN  \n3                     16  STR-16228  \n4                     12        NaN  ",
      "text/html": "<div>\n<style scoped>\n    .dataframe tbody tr th:only-of-type {\n        vertical-align: middle;\n    }\n\n    .dataframe tbody tr th {\n        vertical-align: top;\n    }\n\n    .dataframe thead th {\n        text-align: right;\n    }\n</style>\n<table border=\"1\" class=\"dataframe\">\n  <thead>\n    <tr style=\"text-align: right;\">\n      <th></th>\n      <th>id</th>\n      <th>name</th>\n      <th>host_id</th>\n      <th>host_name</th>\n      <th>neighbourhood_group</th>\n      <th>neighbourhood</th>\n      <th>latitude</th>\n      <th>longitude</th>\n      <th>room_type</th>\n      <th>price</th>\n      <th>minimum_nights</th>\n      <th>number_of_reviews</th>\n      <th>last_review</th>\n      <th>reviews_per_month</th>\n      <th>calculated_host_listings_count</th>\n      <th>availability_365</th>\n      <th>number_of_reviews_ltm</th>\n      <th>license</th>\n    </tr>\n  </thead>\n  <tbody>\n    <tr>\n      <th>0</th>\n      <td>9569407</td>\n      <td>Clean &amp; Cozy Newton/Boston College</td>\n      <td>44920239</td>\n      <td>Marcia</td>\n      <td>NaN</td>\n      <td>Brighton</td>\n      <td>42.33588</td>\n      <td>-71.18811</td>\n      <td>Private room</td>\n      <td>60</td>\n      <td>91</td>\n      <td>13</td>\n      <td>2019-09-02</td>\n      <td>0.17</td>\n      <td>2</td>\n      <td>255</td>\n      <td>0</td>\n      <td>NaN</td>\n    </tr>\n    <tr>\n      <th>1</th>\n      <td>31650137</td>\n      <td>Cozy Queen Bedroom close to  Boston</td>\n      <td>13005723</td>\n      <td>Anderson</td>\n      <td>NaN</td>\n      <td>Charlestown</td>\n      <td>42.40645</td>\n      <td>-71.05180</td>\n      <td>Private room</td>\n      <td>104</td>\n      <td>2</td>\n      <td>144</td>\n      <td>2022-06-02</td>\n      <td>3.60</td>\n      <td>3</td>\n      <td>85</td>\n      <td>57</td>\n      <td>NaN</td>\n    </tr>\n    <tr>\n      <th>2</th>\n      <td>6599485</td>\n      <td>Cambridge  Harvard Comfortable Room</td>\n      <td>6438360</td>\n      <td>John</td>\n      <td>NaN</td>\n      <td>Allston</td>\n      <td>42.38461</td>\n      <td>-71.13500</td>\n      <td>Private room</td>\n      <td>63</td>\n      <td>30</td>\n      <td>210</td>\n      <td>2022-03-19</td>\n      <td>2.50</td>\n      <td>2</td>\n      <td>154</td>\n      <td>3</td>\n      <td>NaN</td>\n    </tr>\n    <tr>\n      <th>3</th>\n      <td>26703374</td>\n      <td>Harvard Square less than 2 miles</td>\n      <td>71156317</td>\n      <td>Eddy</td>\n      <td>NaN</td>\n      <td>Brighton</td>\n      <td>42.37511</td>\n      <td>-71.15229</td>\n      <td>Private room</td>\n      <td>87</td>\n      <td>3</td>\n      <td>21</td>\n      <td>2022-06-09</td>\n      <td>0.45</td>\n      <td>1</td>\n      <td>61</td>\n      <td>16</td>\n      <td>STR-16228</td>\n    </tr>\n    <tr>\n      <th>4</th>\n      <td>13883630</td>\n      <td>Nice, Clean, Warm, Smoke Free 1 in East Somerv...</td>\n      <td>80080682</td>\n      <td>Maria And Jose</td>\n      <td>NaN</td>\n      <td>Charlestown</td>\n      <td>42.38751</td>\n      <td>-71.09151</td>\n      <td>Private room</td>\n      <td>90</td>\n      <td>2</td>\n      <td>128</td>\n      <td>2022-05-26</td>\n      <td>1.78</td>\n      <td>2</td>\n      <td>226</td>\n      <td>12</td>\n      <td>NaN</td>\n    </tr>\n  </tbody>\n</table>\n</div>"
     },
     "execution_count": 1,
     "metadata": {},
     "output_type": "execute_result"
    }
   ],
   "source": [
    "\n",
    "import numpy as np\n",
    "import pandas as pd\n",
    "import matplotlib.pyplot as plt\n",
    "# let's take a look of Airbnb boston dataset (listings)\n",
    "df_listings = pd.read_csv('listings.csv')\n",
    "df_listings.head()"
   ],
   "metadata": {
    "collapsed": false,
    "pycharm": {
     "name": "#%%\n"
    }
   }
  },
  {
   "cell_type": "code",
   "execution_count": 2,
   "outputs": [
    {
     "name": "stdout",
     "output_type": "stream",
     "text": [
      "Number of columns :18 and rows:4903 \n"
     ]
    }
   ],
   "source": [
    "num_rows = df_listings.shape[0]\n",
    "num_col = df_listings.shape[1]\n",
    "print (\"Number of columns :{} and rows:{} \".format(num_col, num_rows))"
   ],
   "metadata": {
    "collapsed": false,
    "pycharm": {
     "name": "#%%\n"
    }
   }
  },
  {
   "cell_type": "code",
   "execution_count": 3,
   "outputs": [
    {
     "name": "stdout",
     "output_type": "stream",
     "text": [
      "Entire home/apt    3230\n",
      "Private room       1622\n",
      "Shared room          27\n",
      "Hotel room           24\n",
      "Name: room_type, dtype: int64\n"
     ]
    }
   ],
   "source": [
    "# Pandas series of the counts for each room type\n",
    "room_type_serie = df_listings.room_type.value_counts()\n",
    "print (room_type_serie)"
   ],
   "metadata": {
    "collapsed": false,
    "pycharm": {
     "name": "#%%\n"
    }
   }
  },
  {
   "cell_type": "code",
   "execution_count": 4,
   "outputs": [
    {
     "data": {
      "text/plain": "<Figure size 432x288 with 1 Axes>",
      "image/png": "[encoded data removed]"
     },
     "metadata": {
      "needs_background": "light"
     },
     "output_type": "display_data"
    }
   ],
   "source": [
    "# The below should be a bar chart of the proportion of individuals in each room type category if your room_type_serie is set up correctly\n",
    "(room_type_serie/df_listings.shape[0]).plot(kind=\"bar\");\n",
    "plt.title(\"Most rented room type\");"
   ],
   "metadata": {
    "collapsed": false,
    "pycharm": {
     "name": "#%%\n"
    }
   }
  },
  {
   "cell_type": "code",
   "execution_count": 5,
   "outputs": [
    {
     "data": {
      "text/plain": "<Figure size 432x288 with 1 Axes>",
      "image/png": "[encoded data removed]"
     },
     "metadata": {
      "needs_background": "light"
     },
     "output_type": "display_data"
    }
   ],
   "source": [
    "neighbourhood_serie = df_listings.neighbourhood.value_counts()\n",
    "\n",
    "# The below should be a bar chart of the proportion of the top 5 neighbourhood for the individuals in your neighbourhood_serie if it is set up correctly.\n",
    "(neighbourhood_serie[:5] / df_listings.shape[0]).plot(kind=\"bar\");\n",
    "plt.title(\"Top 5 neighbourhood with more quantity of properties/spaces rental\");"
   ],
   "metadata": {
    "collapsed": false,
    "pycharm": {
     "name": "#%%\n"
    }
   }
  },
  {
   "cell_type": "code",
   "execution_count": 8,
   "outputs": [
    {
     "name": "stdout",
     "output_type": "stream",
     "text": [
      "                                               price\n",
      "neighbourhood           room_type                   \n",
      "Allston                 Entire home/apt   279.376884\n",
      "                        Private room      156.949206\n",
      "Back Bay                Entire home/apt   399.697368\n",
      "                        Private room      470.375000\n",
      "Bay Village             Entire home/apt   284.720000\n",
      "                        Private room      221.375000\n",
      "Beacon Hill             Entire home/apt   290.500000\n",
      "                        Private room      146.000000\n",
      "Brighton                Entire home/apt   299.778226\n",
      "                        Private room       96.945455\n",
      "Charlestown             Entire home/apt   271.333333\n",
      "                        Private room      102.848276\n",
      "Chinatown               Entire home/apt   502.410959\n",
      "                        Private room      112.000000\n",
      "Dorchester              Entire home/apt   257.845494\n",
      "                        Private room      123.611650\n",
      "Downtown                Entire home/apt   357.941606\n",
      "                        Private room      288.064516\n",
      "East Boston             Entire home/apt   235.944186\n",
      "                        Private room       92.504854\n",
      "Fenway                  Entire home/apt   326.061644\n",
      "                        Private room      156.354839\n",
      "Harbor Islands          Entire home/apt   417.000000\n",
      "                        Private room       98.333333\n",
      "Hyde Park               Entire home/apt   214.541667\n",
      "                        Private room       78.694444\n",
      "Jamaica Plain           Entire home/apt   271.975758\n",
      "                        Private room       96.408451\n",
      "Leather District        Entire home/apt   220.000000\n",
      "Longwood Medical Area   Entire home/apt   258.021739\n",
      "                        Private room      204.111111\n",
      "Mattapan                Entire home/apt   259.333333\n",
      "                        Private room       75.375000\n",
      "Mission Hill            Entire home/apt   319.629630\n",
      "                        Private room      108.205882\n",
      "North End               Entire home/apt   333.376471\n",
      "                        Private room      113.500000\n",
      "Roslindale              Entire home/apt   227.437500\n",
      "                        Private room       67.243243\n",
      "Roxbury                 Entire home/apt   246.677686\n",
      "                        Private room       71.165775\n",
      "South Boston            Entire home/apt   301.511905\n",
      "                        Private room      128.510638\n",
      "South Boston Waterfront Entire home/apt   300.600000\n",
      "                        Private room      137.000000\n",
      "South End               Entire home/apt   298.800885\n",
      "                        Private room      145.303030\n",
      "West End                Entire home/apt   295.898734\n",
      "                        Private room      152.041667\n",
      "West Roxbury            Entire home/apt  1249.186047\n",
      "                        Private room      166.200000\n"
     ]
    }
   ],
   "source": [
    "df_nhood_rt_price=pd.DataFrame(df_listings.query(\"room_type == 'Entire home/apt' or room_type == 'Private room'\").groupby(['neighbourhood', 'room_type']).mean()['price'])\n",
    "print(df_nhood_rt_price)"
   ],
   "metadata": {
    "collapsed": false,
    "pycharm": {
     "name": "#%%\n"
    }
   }
  },
  {
   "cell_type": "code",
   "execution_count": null,
   "outputs": [],
   "source": [],
   "metadata": {
    "collapsed": false,
    "pycharm": {
     "name": "#%%\n"
    }
   }
  }
 ],
 "metadata": {
  "kernelspec": {
   "display_name": "Python 3",
   "language": "python",
   "name": "python3"
  },
  "language_info": {
   "codemirror_mode": {
    "name": "ipython",
    "version": 2
   },
   "file_extension": ".py",
   "mimetype": "text/x-python",
   "name": "python",
   "nbconvert_exporter": "python",
   "pygments_lexer": "ipython2",
   "version": "2.7.6"
  }
 },
 "nbformat": 4,
 "nbformat_minor": 0
}